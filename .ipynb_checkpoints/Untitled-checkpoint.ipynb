{
 "cells": [
  {
   "cell_type": "code",
   "execution_count": 1,
   "metadata": {},
   "outputs": [],
   "source": [
    "from datasets.dataset import KeypointDataset"
   ]
  },
  {
   "cell_type": "code",
   "execution_count": 2,
   "metadata": {},
   "outputs": [
    {
     "name": "stdout",
     "output_type": "stream",
     "text": [
      "600 600\n"
     ]
    }
   ],
   "source": [
    "import glob\n",
    "\n",
    "img_paths = glob.glob('./datasets/IBUG_300_W/*/*.png')\n",
    "pts_paths = glob.glob('./datasets/IBUG_300_W/*/*.pts')\n",
    "\n",
    "print(len(img_paths), len(pts_paths))"
   ]
  },
  {
   "cell_type": "code",
   "execution_count": 3,
   "metadata": {},
   "outputs": [],
   "source": [
    "pts_dataset = KeypointDataset(img_paths, pts_paths, '')\n",
    "heatmap_dataset = KeypointDataset(img_paths, pts_paths, 'heatmap')"
   ]
  },
  {
   "cell_type": "code",
   "execution_count": 9,
   "metadata": {},
   "outputs": [
    {
     "name": "stdout",
     "output_type": "stream",
     "text": [
      "(3, 321, 308) (68, 2)\n"
     ]
    }
   ],
   "source": [
    "img, pts = pts_dataset.get_example(0)\n",
    "print(img.shape, pts.shape)"
   ]
  },
  {
   "cell_type": "code",
   "execution_count": 10,
   "metadata": {},
   "outputs": [
    {
     "name": "stdout",
     "output_type": "stream",
     "text": [
      "(3, 321, 308) (68, 321, 308)\n"
     ]
    }
   ],
   "source": [
    "img, heatmaps = heatmap_dataset.get_example(0)\n",
    "print(img.shape, heatmaps.shape)"
   ]
  },
  {
   "cell_type": "code",
   "execution_count": null,
   "metadata": {},
   "outputs": [],
   "source": []
  }
 ],
 "metadata": {
  "kernelspec": {
   "display_name": "Python 3",
   "language": "python",
   "name": "python3"
  },
  "language_info": {
   "codemirror_mode": {
    "name": "ipython",
    "version": 3
   },
   "file_extension": ".py",
   "mimetype": "text/x-python",
   "name": "python",
   "nbconvert_exporter": "python",
   "pygments_lexer": "ipython3",
   "version": "3.5.2"
  }
 },
 "nbformat": 4,
 "nbformat_minor": 4
}
